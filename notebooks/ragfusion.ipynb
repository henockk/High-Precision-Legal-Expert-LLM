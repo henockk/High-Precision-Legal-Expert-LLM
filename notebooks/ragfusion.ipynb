{
 "cells": [
  {
   "cell_type": "code",
   "execution_count": 19,
   "metadata": {},
   "outputs": [],
   "source": [
    "import os\n",
    "import nest_asyncio\n",
    "import pandas as pd\n",
    "from dotenv import find_dotenv, load_dotenv\n",
    "from langsmith import Client\n",
    "from langchain.chat_models import ChatOpenAI\n",
    "from langchain.embeddings import HuggingFaceEmbeddings\n",
    "from langchain.smith import RunEvalConfig, run_on_dataset\n",
    "import bs4\n",
    "from docx import Document as DocxDocument\n",
    "from langchain import hub\n",
    "from langchain.schema import Document\n",
    "from langchain.text_splitter import RecursiveCharacterTextSplitter\n",
    "from langchain_community.vectorstores import Chroma\n",
    "from langchain_core.output_parsers import StrOutputParser\n",
    "from langchain_core.runnables import RunnablePassthrough\n",
    "from langchain_openai import ChatOpenAI, OpenAIEmbeddings\n",
    "import json\n",
    "import time\n",
    "from sklearn.metrics import accuracy_score, f1_score\n",
    "\n",
    "# To Avoid the Error on Jupyter Notebook (RuntimeError: This Event Loop Is Already Running)\n",
    "# Patch Asyncio To Allow Nested Event Loops\n",
    "\n",
    "nest_asyncio.apply()"
   ]
  },
  {
   "cell_type": "code",
   "execution_count": 2,
   "metadata": {},
   "outputs": [],
   "source": [
    "load_dotenv(find_dotenv())\n",
    "os.environ[\"LANGCHAIN_API_KEY\"] = str(os.getenv(\"LANGCHAIN_API_KEY\"))\n",
    "os.environ[\"LANGCHAIN_TRACING_V2\"] = \"true\"\n",
    "os.environ[\"LANGCHAIN_ENDPOINT\"] = \"https://api.smith.langchain.com\"\n",
    "os.environ[\"LANGCHAIN_PROJECT\"] = \"default\""
   ]
  },
  {
   "cell_type": "code",
   "execution_count": 3,
   "metadata": {},
   "outputs": [],
   "source": [
    "# Function to load a .docx document\n",
    "def load_docx_document(file_path):\n",
    "    doc = DocxDocument(file_path)\n",
    "    full_text = []\n",
    "    for para in doc.paragraphs:\n",
    "        full_text.append(para.text)\n",
    "    return '\\n'.join(full_text)"
   ]
  },
  {
   "cell_type": "code",
   "execution_count": 4,
   "metadata": {},
   "outputs": [],
   "source": [
    "# Set the path to the specific file\n",
    "# Assuming the script/notebook is in the \"notebooks\" directory and \"data\" is a sibling directory\n",
    "current_working_directory = os.getcwd()\n",
    "parent_directory = os.path.dirname(current_working_directory)\n",
    "file_path = os.path.join(parent_directory, \"data\", \"Robinson Advisory.docx\")\n",
    "\n",
    "# Load the .docx Document\n",
    "docx_text = load_docx_document(file_path)\n",
    "\n",
    "# Convert loaded text to LangChain document format\n",
    "docs = [Document(page_content=docx_text)]"
   ]
  },
  {
   "cell_type": "code",
   "execution_count": 5,
   "metadata": {},
   "outputs": [],
   "source": [
    "# Split\n",
    "from langchain.text_splitter import RecursiveCharacterTextSplitter\n",
    "text_splitter = RecursiveCharacterTextSplitter.from_tiktoken_encoder(\n",
    "    chunk_size=300, \n",
    "    chunk_overlap=50)\n",
    "\n",
    "# Make splits\n",
    "splits = text_splitter.split_documents(docs)\n",
    "\n",
    "# Index\n",
    "from langchain_openai import OpenAIEmbeddings\n",
    "from langchain_community.vectorstores import Chroma\n",
    "vectorstore = Chroma.from_documents(documents=splits, \n",
    "                                    embedding=OpenAIEmbeddings())\n",
    "\n",
    "retriever = vectorstore.as_retriever()"
   ]
  },
  {
   "cell_type": "code",
   "execution_count": 6,
   "metadata": {},
   "outputs": [],
   "source": [
    "from langchain.prompts import ChatPromptTemplate\n",
    "\n",
    "# RAG-Fusion: Related\n",
    "template = \"\"\"You are a helpful assistant that generates multiple search queries based on a single input query. \\n\n",
    "Generate multiple search queries related to: {question} \\n\n",
    "Output (4 queries):\"\"\"\n",
    "prompt_rag_fusion = ChatPromptTemplate.from_template(template)"
   ]
  },
  {
   "cell_type": "code",
   "execution_count": 7,
   "metadata": {},
   "outputs": [],
   "source": [
    "from langchain_core.output_parsers import StrOutputParser\n",
    "from langchain_openai import ChatOpenAI\n",
    "\n",
    "generate_queries = (\n",
    "    prompt_rag_fusion \n",
    "    | ChatOpenAI(temperature=0)\n",
    "    | StrOutputParser() \n",
    "    | (lambda x: x.split(\"\\n\"))\n",
    ")"
   ]
  },
  {
   "cell_type": "code",
   "execution_count": 8,
   "metadata": {},
   "outputs": [
    {
     "name": "stderr",
     "output_type": "stream",
     "text": [
      "/home/henock/Desktop/10_Academy/week_11/High-Precision-Legal-Expert-LLM/.venv/lib/python3.10/site-packages/langchain_core/_api/beta_decorator.py:87: LangChainBetaWarning: The function `loads` is in beta. It is actively being worked on, so the API may change.\n",
      "  warn_beta(\n"
     ]
    },
    {
     "data": {
      "text/plain": [
       "6"
      ]
     },
     "execution_count": 8,
     "metadata": {},
     "output_type": "execute_result"
    }
   ],
   "source": [
    "from langchain.load import dumps, loads\n",
    "\n",
    "def get_unique_union(documents: list[list]):\n",
    "    \"\"\" Unique union of retrieved docs \"\"\"\n",
    "    # Flatten list of lists, and convert each Document to string\n",
    "    flattened_docs = [dumps(doc) for sublist in documents for doc in sublist]\n",
    "    # Get unique documents\n",
    "    unique_docs = list(set(flattened_docs))\n",
    "    # Return\n",
    "    return [loads(doc) for doc in unique_docs]\n",
    "\n",
    "# Retrieve\n",
    "question = \"What is the termination notice? \"\n",
    "retrieval_chain = generate_queries | retriever.map() | get_unique_union\n",
    "docs = retrieval_chain.invoke({\"question\":question})\n",
    "len(docs)"
   ]
  },
  {
   "cell_type": "code",
   "execution_count": 9,
   "metadata": {},
   "outputs": [
    {
     "data": {
      "text/plain": [
       "6"
      ]
     },
     "execution_count": 9,
     "metadata": {},
     "output_type": "execute_result"
    }
   ],
   "source": [
    "from langchain.load import dumps, loads\n",
    "\n",
    "def reciprocal_rank_fusion(results: list[list], k=60):\n",
    "    \"\"\" Reciprocal_rank_fusion that takes multiple lists of ranked documents \n",
    "        and an optional parameter k used in the RRF formula \"\"\"\n",
    "    \n",
    "    # Initialize a dictionary to hold fused scores for each unique document\n",
    "    fused_scores = {}\n",
    "\n",
    "    # Iterate through each list of ranked documents\n",
    "    for docs in results:\n",
    "        # Iterate through each document in the list, with its rank (position in the list)\n",
    "        for rank, doc in enumerate(docs):\n",
    "            # Convert the document to a string format to use as a key (assumes documents can be serialized to JSON)\n",
    "            doc_str = dumps(doc)\n",
    "            # If the document is not yet in the fused_scores dictionary, add it with an initial score of 0\n",
    "            if doc_str not in fused_scores:\n",
    "                fused_scores[doc_str] = 0\n",
    "            # Retrieve the current score of the document, if any\n",
    "            previous_score = fused_scores[doc_str]\n",
    "            # Update the score of the document using the RRF formula: 1 / (rank + k)\n",
    "            fused_scores[doc_str] += 1 / (rank + k)\n",
    "\n",
    "    # Sort the documents based on their fused scores in descending order to get the final reranked results\n",
    "    reranked_results = [\n",
    "        (loads(doc), score)\n",
    "        for doc, score in sorted(fused_scores.items(), key=lambda x: x[1], reverse=True)\n",
    "    ]\n",
    "\n",
    "    # Return the reranked results as a list of tuples, each containing the document and its fused score\n",
    "    return reranked_results\n",
    "\n",
    "retrieval_chain_rag_fusion = generate_queries | retriever.map() | reciprocal_rank_fusion\n",
    "docs = retrieval_chain_rag_fusion.invoke({\"question\": question})\n",
    "len(docs)"
   ]
  },
  {
   "cell_type": "code",
   "execution_count": 14,
   "metadata": {},
   "outputs": [
    {
     "name": "stdout",
     "output_type": "stream",
     "text": [
      "The termination notice is fourteen (14) days' prior written notice. Either party may terminate the agreement for any reason, with or without cause. However, the Company may terminate the agreement immediately and without prior notice if the Advisor refuses or is unable to perform the Services, or is in breach of any provision of the Agreement.\n"
     ]
    }
   ],
   "source": [
    "from operator import itemgetter\n",
    "from langchain_openai import ChatOpenAI\n",
    "from langchain_core.runnables import RunnablePassthrough\n",
    "\n",
    "# RAG\n",
    "template = \"\"\"Answer the following question based on this context:\n",
    "\n",
    "{context}\n",
    "\n",
    "Question: {question}\n",
    "\"\"\"\n",
    "\n",
    "prompt = ChatPromptTemplate.from_template(template)\n",
    "\n",
    "llm = ChatOpenAI(temperature=0, model_name=\"gpt-4\")\n",
    "\n",
    "final_rag_chain = (\n",
    "    {\"context\": retrieval_chain, \n",
    "     \"question\": itemgetter(\"question\")} \n",
    "    | prompt\n",
    "    | llm\n",
    "    | StrOutputParser()\n",
    ")\n",
    "\n",
    "response = final_rag_chain.invoke({\"question\": question})\n",
    "print(response)"
   ]
  },
  {
   "cell_type": "code",
   "execution_count": 15,
   "metadata": {},
   "outputs": [],
   "source": [
    "# Load evaluation data from JSON\n",
    "def load_evaluation_data(file_path):\n",
    "    with open(file_path, 'r') as file:\n",
    "        data = json.load(file)\n",
    "    return data\n",
    "\n",
    "evaluation_data = load_evaluation_data('evaluation_data.json')"
   ]
  },
  {
   "cell_type": "code",
   "execution_count": 16,
   "metadata": {},
   "outputs": [],
   "source": [
    "# Function to get RAG response and measure response time\n",
    "def get_rag_response(question):\n",
    "    start_time = time.time()\n",
    "    response = final_rag_chain.invoke({\"question\": question})\n",
    "    end_time = time.time()\n",
    "    response_time = end_time - start_time\n",
    "    return response, response_time"
   ]
  },
  {
   "cell_type": "code",
   "execution_count": 17,
   "metadata": {},
   "outputs": [],
   "source": [
    "# Function to run automated tests\n",
    "def run_automated_tests(evaluation_data):\n",
    "    results = []\n",
    "    for contract in evaluation_data['contracts']:\n",
    "        for qa in contract['questions']:\n",
    "            predicted_answer, response_time = get_rag_response(qa['question'])\n",
    "            results.append({\n",
    "                \"question\": qa['question'],\n",
    "                \"predicted_answer\": predicted_answer,\n",
    "                \"true_answer\": qa['answer'],\n",
    "                \"response_time\": response_time\n",
    "            })\n",
    "    return results"
   ]
  },
  {
   "cell_type": "code",
   "execution_count": 20,
   "metadata": {},
   "outputs": [],
   "source": [
    "# Function to evaluate accuracy and relevance\n",
    "def evaluate_results(results):\n",
    "    true_answers = [result['true_answer'] for result in results]\n",
    "    predicted_answers = [result['predicted_answer'] for result in results]\n",
    "    \n",
    "    accuracy = accuracy_score(true_answers, predicted_answers)\n",
    "    relevance = f1_score(true_answers, predicted_answers, average='weighted')\n",
    "    \n",
    "    report = {\n",
    "        \"accuracy\": accuracy,\n",
    "        \"relevance\": relevance,\n",
    "        \"details\": results\n",
    "    }\n",
    "    return report"
   ]
  },
  {
   "cell_type": "code",
   "execution_count": 21,
   "metadata": {},
   "outputs": [],
   "source": [
    "# Execute the evaluation pipeline\n",
    "results = run_automated_tests(evaluation_data)\n",
    "report = evaluate_results(results)"
   ]
  },
  {
   "cell_type": "code",
   "execution_count": 22,
   "metadata": {},
   "outputs": [
    {
     "name": "stdout",
     "output_type": "stream",
     "text": [
      "{\n",
      "    \"accuracy\": 0.0,\n",
      "    \"relevance\": 0.0,\n",
      "    \"details\": [\n",
      "        {\n",
      "            \"question\": \"Who are the parties to the Agreement and what are their defined names?\",\n",
      "            \"predicted_answer\": \"The parties to the Agreement are Cloud Investments Ltd. and an individual named Jack Robinson. Their defined names in the Agreement are \\\"Company\\\" for Cloud Investments Ltd. and \\\"Advisor\\\" for Jack Robinson.\",\n",
      "            \"true_answer\": \"Cloud Investments Ltd. (\\u201cCompany\\u201d) and Jack Robinson (\\u201cAdvisor\\u201d)\",\n",
      "            \"response_time\": 6.1324543952941895\n",
      "        },\n",
      "        {\n",
      "            \"question\": \"What is the termination notice?\",\n",
      "            \"predicted_answer\": \"The termination notice is fourteen (14) days' prior written notice. However, the Company may terminate the Agreement immediately and without prior notice if the Advisor refuses or is unable to perform the Services, or is in breach of any provision of this Agreement.\",\n",
      "            \"true_answer\": \"According to section 4:14 days for convenience by both parties. The Company may terminate without notice if the Advisor refuses or cannot perform the Services or is in breach of any provision of this Agreement.  \",\n",
      "            \"response_time\": 5.534550189971924\n",
      "        },\n",
      "        {\n",
      "            \"question\": \"What are the payments to the Advisor under the Agreement? \",\n",
      "            \"predicted_answer\": \"The payments to the Advisor under the Agreement include hourly fees at a rate of USD 9 per Billable Hour, limited to a maximum of USD 1,500 per month. In addition, the Company shall pay the advisor USD 100 per month to finance a workspace for the Advisor, as long as the Advisor actually hires a professional workspace. The Fees and the Workspace Expense for each month shall be payable by no later than ten (10) days from the beginning of the following month, against receipt by the Company of a duly issued tax invoice. The Company will also reimburse the Advisor for any reasonable and actual expenses incurred in connection with the performance of the Services, subject to Company's prior written consent for each specific expense and provided the Advisor submits all necessary evidence of expenditures.\",\n",
      "            \"true_answer\": \"According to section 6: 1. Fees of $9 per hour up to a monthly limit of $1,500, 2. Workspace expense of $100 per month, 3. Other reasonable and actual expenses if approved by the company in writing and in advance.\",\n",
      "            \"response_time\": 7.776822090148926\n",
      "        },\n",
      "        {\n",
      "            \"question\": \"Can the Agreement or any of its obligations be assigned?\",\n",
      "            \"predicted_answer\": \"Yes, the Agreement can be assigned. However, the Advisor cannot assign, sell, delegate or transfer the Agreement in any manner for any reason. The Company, on the other hand, may assign the Agreement to a successor of all or substantially all of its assets or business, provided the assignee has assumed the Company\\u2019s obligations under this Agreement.\",\n",
      "            \"true_answer\": \"1. Under section 1.1 the Advisor can\\u2019t assign any of his obligations without the prior written consent of the Company, 2. Under section 9  the Advisor may not assign the Agreement and the Company may assign it, 3 Under section 9 of the Undertaking the Company may assign the Undertaking.\",\n",
      "            \"response_time\": 6.168811798095703\n",
      "        },\n",
      "        {\n",
      "            \"question\": \"Who owns the IP? \",\n",
      "            \"predicted_answer\": \"The IP (Intellectual Property) is fully and exclusively owned by the Company, Cloud Investments Ltd.\",\n",
      "            \"true_answer\": \"According to section 4 of the Undertaking (Appendix A), Any Work Product, upon creation, shall be fully and exclusively owned by the Company.\",\n",
      "            \"response_time\": 3.663407564163208\n",
      "        },\n",
      "        {\n",
      "            \"question\": \"Is there a non-compete obligation to the Advisor?\",\n",
      "            \"predicted_answer\": \"Yes, there is a non-compete obligation to the Advisor. During the term of engagement with the Company and for a period of 12 months thereafter, the Advisor shall not be involved in any business that competes with the Company\\u2019s Business. The Advisor is also prohibited from soliciting and/or hiring any employee and/or service provider of the Company without the prior written consent of the Company.\",\n",
      "            \"true_answer\": \"Yes. During the term of engagement with the Company and for a period of 12 months thereafter.\",\n",
      "            \"response_time\": 5.322474956512451\n",
      "        },\n",
      "        {\n",
      "            \"question\": \"Can the Advisor charge for meal time?\",\n",
      "            \"predicted_answer\": \"No, the Advisor cannot charge for meal time.\",\n",
      "            \"true_answer\": \"No. See Section 6.1, Billable Hour doesn\\u2019t include meals or travel time.\",\n",
      "            \"response_time\": 3.3406119346618652\n",
      "        },\n",
      "        {\n",
      "            \"question\": \"In which street does the Advisor live?\",\n",
      "            \"predicted_answer\": \"The documents do not provide information on the street where the Advisor lives.\",\n",
      "            \"true_answer\": \"1 Rabin st, Tel Aviv, Israel \",\n",
      "            \"response_time\": 3.7006750106811523\n",
      "        },\n",
      "        {\n",
      "            \"question\": \"Is the Advisor entitled to social benefits?\",\n",
      "            \"predicted_answer\": \"No, the Advisor is not entitled to social benefits.\",\n",
      "            \"true_answer\": \"No. According to section 8 of the Agreement, the Advisor is an independent consultant and shall not be entitled to any overtime pay, insurance, paid vacation, severance payments or similar fringe or employment benefits from the Company.\",\n",
      "            \"response_time\": 3.408536672592163\n",
      "        },\n",
      "        {\n",
      "            \"question\": \"What happens if the Advisor claims compensation based on employment relationship with the Company? \",\n",
      "            \"predicted_answer\": \"If the Advisor claims compensation based on an employment relationship with the Company, and it is determined by any governmental authority that the Advisor is an employee of the Company, then payments to the Advisor will be retroactively reduced. 60% of such payments will constitute salary payments, and 40% will constitute payment by the Company for all other Advisor statutory rights and benefits as an employee of the Company. The Advisor also consents that the Company may offset any amounts due to him under this section from any amounts payable to the Advisor under the Agreement. The Advisor will have to indemnify the Company for any loss or expenses incurred if it were determined that an alleged employer/employee relationship existed between the Advisor and the Company.\",\n",
      "            \"true_answer\": \"If the Advisor is determined to be an employee of the Company by a governmental authority, payments to the Advisor will be retroactively reduced so that 60% constitutes salary payments and 40% constitutes payment for statutory rights and benefits. The Company may offset any amounts due to the Advisor from any amounts payable under the Agreement. The Advisor must indemnify the Company for any losses or expenses incurred if an employer/employee relationship is determined to exist.\",\n",
      "            \"response_time\": 8.495075464248657\n",
      "        }\n",
      "    ]\n",
      "}\n"
     ]
    }
   ],
   "source": [
    "# Print the evaluation report\n",
    "print(json.dumps(report, indent=4))"
   ]
  },
  {
   "cell_type": "code",
   "execution_count": null,
   "metadata": {},
   "outputs": [],
   "source": []
  }
 ],
 "metadata": {
  "kernelspec": {
   "display_name": ".venv",
   "language": "python",
   "name": "python3"
  },
  "language_info": {
   "codemirror_mode": {
    "name": "ipython",
    "version": 3
   },
   "file_extension": ".py",
   "mimetype": "text/x-python",
   "name": "python",
   "nbconvert_exporter": "python",
   "pygments_lexer": "ipython3",
   "version": "3.10.10"
  }
 },
 "nbformat": 4,
 "nbformat_minor": 2
}
